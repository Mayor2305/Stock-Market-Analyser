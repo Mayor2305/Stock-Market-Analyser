{
 "cells": [
  {
   "cell_type": "markdown",
   "metadata": {
    "id": "j8M9CIa3eNeZ"
   },
   "source": [
    "# Uncomment if using Google Colab with Google drive"
   ]
  },
  {
   "cell_type": "code",
   "execution_count": 1,
   "metadata": {
    "id": "axbVHDLgeRTc"
   },
   "outputs": [],
   "source": [
    "## Uncomment it if you are using Google Collab\n",
    "# import os\n",
    "# from google.colab import drive\n",
    "# drive.mount('/content/drive/')\n",
    "# %cd /content/drive/MyDrive/cmpt353-group-project/"
   ]
  },
  {
   "cell_type": "markdown",
   "metadata": {
    "id": "mWDxx6xm_AH2"
   },
   "source": [
    "# Installing and Importing packages"
   ]
  },
  {
   "cell_type": "code",
   "execution_count": null,
   "metadata": {
    "id": "O1u-qqflNiFf"
   },
   "outputs": [
    {
     "name": "stdout",
     "output_type": "stream",
     "text": [
      "Defaulting to user installation because normal site-packages is not writeable\n",
      "Requirement already satisfied: psaw in /home/ritika/.local/lib/python3.8/site-packages (0.1.0)\n",
      "Requirement already satisfied: Click in /usr/lib/python3/dist-packages (from psaw) (7.0)\n",
      "Requirement already satisfied: requests in /usr/lib/python3/dist-packages (from psaw) (2.22.0)\n",
      "\u001b[33mWARNING: You are using pip version 21.1.3; however, version 21.2.4 is available.\n",
      "You should consider upgrading via the '/usr/bin/python3 -m pip install --upgrade pip' command.\u001b[0m\n",
      "Defaulting to user installation because normal site-packages is not writeable\n",
      "Requirement already satisfied: yfinance in /home/ritika/.local/lib/python3.8/site-packages (0.1.63)\n",
      "Requirement already satisfied: requests>=2.20 in /usr/lib/python3/dist-packages (from yfinance) (2.22.0)\n",
      "Requirement already satisfied: multitasking>=0.0.7 in /home/ritika/.local/lib/python3.8/site-packages (from yfinance) (0.0.9)\n",
      "Requirement already satisfied: lxml>=4.5.1 in /home/ritika/.local/lib/python3.8/site-packages (from yfinance) (4.6.3)\n",
      "Requirement already satisfied: pandas>=0.24 in /home/ritika/.local/lib/python3.8/site-packages (from yfinance) (1.2.1)\n",
      "Requirement already satisfied: numpy>=1.15 in /home/ritika/.local/lib/python3.8/site-packages (from yfinance) (1.19.5)\n",
      "Requirement already satisfied: pytz>=2017.3 in /usr/lib/python3/dist-packages (from pandas>=0.24->yfinance) (2019.3)\n",
      "Requirement already satisfied: python-dateutil>=2.7.3 in /usr/lib/python3/dist-packages (from pandas>=0.24->yfinance) (2.7.3)\n",
      "\u001b[33mWARNING: You are using pip version 21.1.3; however, version 21.2.4 is available.\n",
      "You should consider upgrading via the '/usr/bin/python3 -m pip install --upgrade pip' command.\u001b[0m\n",
      "Defaulting to user installation because normal site-packages is not writeable\n",
      "Requirement already satisfied: pandas-datareader in /home/ritika/.local/lib/python3.8/site-packages (0.10.0)\n",
      "Requirement already satisfied: lxml in /home/ritika/.local/lib/python3.8/site-packages (from pandas-datareader) (4.6.3)\n",
      "Requirement already satisfied: requests>=2.19.0 in /usr/lib/python3/dist-packages (from pandas-datareader) (2.22.0)\n",
      "Requirement already satisfied: pandas>=0.23 in /home/ritika/.local/lib/python3.8/site-packages (from pandas-datareader) (1.2.1)\n",
      "Requirement already satisfied: python-dateutil>=2.7.3 in /usr/lib/python3/dist-packages (from pandas>=0.23->pandas-datareader) (2.7.3)\n",
      "Requirement already satisfied: pytz>=2017.3 in /usr/lib/python3/dist-packages (from pandas>=0.23->pandas-datareader) (2019.3)\n",
      "Requirement already satisfied: numpy>=1.16.5 in /home/ritika/.local/lib/python3.8/site-packages (from pandas>=0.23->pandas-datareader) (1.19.5)\n",
      "\u001b[33mWARNING: You are using pip version 21.1.3; however, version 21.2.4 is available.\n",
      "You should consider upgrading via the '/usr/bin/python3 -m pip install --upgrade pip' command.\u001b[0m\n"
     ]
    }
   ],
   "source": [
    "#installations\n",
    "!pip install psaw\n",
    "\n",
    "# Yahoo Finance API\n",
    "!pip install yfinance\n",
    "\n",
    "!pip install pandas-datareader\n",
    "\n",
    "#reference from https://newbedev.com/how-to-install-ta-lib-in-google-colab\n",
    "url = 'https://launchpad.net/~mario-mariomedina/+archive/ubuntu/talib/+files'\n",
    "!wget $url/libta-lib0_0.4.0-oneiric1_amd64.deb -qO libta.deb\n",
    "!wget $url/ta-lib0-dev_0.4.0-oneiric1_amd64.deb -qO ta.deb\n",
    "!dpkg -i libta.deb ta.deb\n",
    "!pip install ta-lib\n",
    "\n",
    "!pip install transformers requests\n",
    "!pip install quandl\n",
    "\n"
   ]
  },
  {
   "cell_type": "code",
   "execution_count": null,
   "metadata": {
    "executionInfo": {
     "elapsed": 3162,
     "status": "ok",
     "timestamp": 1628918848925,
     "user": {
      "displayName": "CMPT 353",
      "photoUrl": "",
      "userId": "08881496583835622212"
     },
     "user_tz": 420
    },
    "id": "4A9jq3qxHzpR"
   },
   "outputs": [],
   "source": [
    "import pandas as pd\n",
    "import numpy as np\n",
    "import re\n",
    "import difflib\n",
    "import matplotlib.pyplot as plt\n",
    "import datetime as dt\n",
    "\n",
    "from pandas_datareader import data\n",
    "import datetime\n",
    "from datetime import date\n",
    "\n",
    "from sklearn.preprocessing import MinMaxScaler, StandardScaler\n",
    "from sklearn.ensemble import RandomForestClassifier\n",
    "\n",
    "from sklearn.ensemble import RandomForestRegressor\n",
    "from sklearn.model_selection import train_test_split\n",
    "\n",
    "from tensorflow.keras.models import Sequential\n",
    "from tensorflow.keras.layers import Dense, Dropout, LSTM\n",
    "from keras.optimizers import Adam\n",
    "\n",
    "from psaw import PushshiftAPI\n",
    "\n",
    "import yfinance as yf\n",
    "yf.pdr_override()\n",
    "\n",
    "import talib\n",
    "\n",
    "from transformers import AutoTokenizer, AutoModelForSequenceClassification \n",
    "import requests\n",
    "import torch \n",
    "import seaborn\n",
    "seaborn.set()\n",
    "\n",
    "from scipy import stats\n",
    "from sklearn.metrics import classification_report\n",
    "\n",
    "\n",
    "\n",
    "from sklearn.linear_model import LinearRegression\n",
    "from sklearn.preprocessing import PolynomialFeatures\n",
    "from sklearn.pipeline import make_pipeline\n",
    "from sklearn.model_selection import train_test_split\n",
    "import quandl\n",
    "import warnings\n",
    "warnings.filterwarnings(\"ignore\")\n",
    "\n",
    "\n"
   ]
  },
  {
   "cell_type": "markdown",
   "metadata": {
    "id": "mzraNluSH2sY"
   },
   "source": [
    "#  Importing files"
   ]
  },
  {
   "cell_type": "code",
   "execution_count": null,
   "metadata": {
    "executionInfo": {
     "elapsed": 11,
     "status": "ok",
     "timestamp": 1628918848926,
     "user": {
      "displayName": "CMPT 353",
      "photoUrl": "",
      "userId": "08881496583835622212"
     },
     "user_tz": 420
    },
    "id": "Ataf-Q34HzsL"
   },
   "outputs": [],
   "source": [
    "# importing ticker symbols\n",
    "tickers = pd.read_csv('./data/Processed_data/stock_ticker.csv')\n",
    "df_combined_10 = pd.read_csv('./data/Processed_data/df_combined_10.csv')\n",
    "df_combined = pd.read_csv('./data/Processed_data/df_combined.csv')\n",
    "pred = pd.read_csv('./data/Processed_data/predictions.csv')\n",
    "inflation_data = pd.read_csv('./data/Raw_data/inflation.csv')\n",
    "economic_data = pd.read_csv('./data/Raw_data/EconomicData.csv')\n"
   ]
  },
  {
   "cell_type": "markdown",
   "metadata": {
    "id": "Om4kyh3PFViI"
   },
   "source": [
    "# Finding Market Sentiment using economic data (Jyotiraditya & Ritika)"
   ]
  },
  {
   "cell_type": "markdown",
   "metadata": {
    "id": "u2eIwdOTKtFP"
   },
   "source": [
    "Using CSV files (Jyotiraditya & Ritika)"
   ]
  },
  {
   "cell_type": "code",
   "execution_count": null,
   "metadata": {
    "colab": {
     "base_uri": "https://localhost:8080/",
     "height": 602
    },
    "executionInfo": {
     "elapsed": 577,
     "status": "ok",
     "timestamp": 1628918849493,
     "user": {
      "displayName": "CMPT 353",
      "photoUrl": "",
      "userId": "08881496583835622212"
     },
     "user_tz": 420
    },
    "id": "YY9lTI2AFfAA",
    "outputId": "8f151df2-f615-44d5-febf-8413f8d3865e"
   },
   "outputs": [],
   "source": [
    "#inflation (CPI) \n",
    "inflation_data.datetime = pd.to_datetime(inflation_data['datetime'])\n",
    "\n",
    "inflation_data.datetime = inflation_data['datetime'].apply(lambda x: datetime.datetime.strftime(x, '%Y-%d-%m'))\n",
    "inflation_data.datetime = pd.to_datetime(inflation_data['datetime'])\n",
    "\n",
    "r = pd.date_range(start=inflation_data.datetime.min(), end=inflation_data.datetime.max())\n",
    "inflation_data = inflation_data.set_index('datetime').reindex(r).rename_axis('datetime').reset_index()\n",
    "\n",
    "inflation_data = inflation_data.ffill(axis=0)\n",
    "\n",
    "inflation_data = inflation_data.set_index('datetime')\n",
    "# inflation_data.to_csv('/content/drive/MyDrive/Colab_Notebooks/Features/test.csv')\n",
    "\n",
    "#economic data\n",
    "economic_data.datetime = pd.to_datetime(economic_data['datetime'])\n",
    "\n",
    "r = pd.date_range(start=economic_data.datetime.min(), end=economic_data.datetime.max())\n",
    "economic_data = economic_data.set_index('datetime').reindex(r).rename_axis('datetime').reset_index()\n",
    "economic_data = economic_data.ffill(axis=0)\n",
    "\n",
    "economic_data = economic_data.set_index('datetime')\n",
    "# economic_data.to_csv('/content/drive/MyDrive/Colab_Notebooks/Features/test.csv')\n",
    "\n",
    "# combining inflation and economic data by date\n",
    "combined = inflation_data.join(economic_data,how = 'inner', lsuffix='_ticker', rsuffix='_eco')\n",
    "combined = combined.ffill(axis = 0)\n",
    "\n",
    "# extracting VIX\n",
    "vix = '^VIX'\n",
    "tickerdata = yf.Ticker(vix)\n",
    "today = datetime.datetime.today().isoformat()\n",
    "VIX_info = tickerdata.history(period = '1d', start = '1980-1-1',end = today[:10])\n",
    "VIX_info['Vix_close'] = VIX_info['Close']\n",
    "VIX_info = VIX_info[['Vix_close']]\n",
    "# VIX_info\n",
    "\n",
    "#combining closing price of volatility index with the data\n",
    "combined = combined.join(VIX_info,how = 'inner' )\n",
    "\n",
    "# replacing Nan values with 0\n",
    "economic_data = combined.fillna(0)\n",
    "economic_data\n"
   ]
  },
  {
   "cell_type": "markdown",
   "metadata": {
    "id": "7kaYwkLHKnTt"
   },
   "source": [
    "Using Quandl API (Jyotiraditya)"
   ]
  },
  {
   "cell_type": "code",
   "execution_count": null,
   "metadata": {
    "executionInfo": {
     "elapsed": 5,
     "status": "ok",
     "timestamp": 1628918849494,
     "user": {
      "displayName": "CMPT 353",
      "photoUrl": "",
      "userId": "08881496583835622212"
     },
     "user_tz": 420
    },
    "id": "zbLazw9QFfTX"
   },
   "outputs": [],
   "source": [
    "\n",
    "quandl.ApiConfig.api_key = \"woVaCn-12gsc-zQXonLZ\"\n"
   ]
  },
  {
   "cell_type": "code",
   "execution_count": null,
   "metadata": {
    "executionInfo": {
     "elapsed": 12316,
     "status": "ok",
     "timestamp": 1628918861806,
     "user": {
      "displayName": "CMPT 353",
      "photoUrl": "",
      "userId": "08881496583835622212"
     },
     "user_tz": 420
    },
    "id": "KlbZFQZEFfU6"
   },
   "outputs": [],
   "source": [
    "econ_data = quandl.get(['FRED/CPIAUCSL', 'FRED/UNRATE','FRED/GDPPOT','FRED/NGDPPOT','FRED/GDPDEF','FRED/BASE','FRED/M1','FRED/M1V','FRED/DFF','FRED/UNEMPLOY','FRED/MEHOINUSA672N','FRED/DSPIC96'], collapse = 'daily') #cpi\n",
    "econ_data= econ_data.rename(columns={'FRED/CPIAUCSL - Value':'CPI', 'FRED/UNRATE - Value':'Unemployment_Rate','FRED/GDPPOT - Value':'Potential_Real_GDP','FRED/NGDPPOT - Value':'Potential_Nominal_GDP','FRED/GDPDEF - Value':'GDP_Deflator','FRED/BASE - Value':'St_Louis_Monitory_Base','FRED/M1 - Value':'M1_Money','FRED/M1V - Value':'M1_Money_Velocity','FRED/DFF - Value':'Efective_Funds_Rate','FRED/UNEMPLOY - Value':'Unemployment_Level','FRED/MEHOINUSA672N - Value':'Median_Household_Income','FRED/DSPIC96 - Value':'Disposable_personal_income'},errors=\"raise\")\n",
    "\n",
    "econ_data = econ_data.reset_index()\n",
    "monthly_econ_data = econ_data.copy()\n",
    "# r = pd.date_range(start=econ_data.Date.min(), end=econ_data.Date.max())\n",
    "\n",
    "# econ_data = econ_data.set_index('Date').reindex(r).rename_axis('Date').reset_index()\n",
    "\n",
    "# econ_data = econ_data.ffill(axis=0)\n",
    "econ_data = econ_data.fillna(0)\n",
    "econ_data = econ_data.set_index('Date')\n",
    "\n",
    "econ_data['year_month'] = econ_data.index.to_period('M')\n",
    "econ_data = econ_data.set_index('year_month')\n",
    "econ_data = econ_data.groupby('year_month').mean()\n",
    "\n",
    "\n",
    "# extracting VIX\n",
    "vix = '^VIX'\n",
    "tickerdata = yf.Ticker(vix)\n",
    "today = datetime.datetime.today().isoformat()\n",
    "VIX_info = tickerdata.history(period = '1d', start = '1980-1-1',end = today[:10])\n",
    "VIX_info['Vix_close'] = VIX_info['Close']\n",
    "VIX_info = VIX_info[['Vix_close']]\n",
    "VIX_info['year_month'] = VIX_info.index.to_period('M')\n",
    "VIX_info = VIX_info.groupby('year_month').mean()\n",
    "\n",
    "econ_data = econ_data.join(VIX_info, how='inner')\n",
    "\n",
    "#extracting S&P 500\n",
    "sp500 = '^GSPC'\n",
    "# sp500 = '^IXIC'\n",
    "tickerdata_sp500 = yf.Ticker(sp500)\n",
    "today = datetime.datetime.today().isoformat()\n",
    "SP_info = tickerdata_sp500.history(start = '1920-1-1',end = today[:10], frequency = '1mo')\n",
    "SP_info['SP_Close'] = SP_info['Close']\n",
    "SP_info = SP_info[['SP_Close']]\n",
    "SP_info['increase_percentage'] = (SP_info['SP_Close'].shift(-20))\n",
    "SP_info['increase_percentage'] = ((SP_info['increase_percentage'] - SP_info['SP_Close']) / SP_info['SP_Close']) * 100\n",
    "# SP_info['Year'] = SP_info.index.year\n",
    "SP_info['year_month'] = SP_info.index.to_period('M')\n",
    "# SP_info = SP_info.reset_index()\n",
    "SP_info = SP_info.groupby('year_month').mean()\n",
    "SP_info ['sentiment'] = np.where(SP_info['increase_percentage'] >= 1, 1 , 0)\n",
    "SP_info = SP_info[['sentiment']]\n",
    "\n",
    "econ_data = econ_data.join(SP_info, how='inner')\n"
   ]
  },
  {
   "cell_type": "code",
   "execution_count": null,
   "metadata": {
    "executionInfo": {
     "elapsed": 180,
     "status": "ok",
     "timestamp": 1628918861983,
     "user": {
      "displayName": "CMPT 353",
      "photoUrl": "",
      "userId": "08881496583835622212"
     },
     "user_tz": 420
    },
    "id": "Y2JmDHAkPrDd"
   },
   "outputs": [],
   "source": [
    "X=econ_data\n",
    "y=X['sentiment']\n",
    "# y=y.to_numpy()\n",
    "X=X.drop(['sentiment'],axis=1)\n",
    "\n",
    "# X=X.to_numpy()\n",
    "X_train = X[:'2021-01']\n",
    "y_train = y.loc[:'2021-01']\n",
    "\n",
    "model = RandomForestClassifier()\n",
    "\n",
    "model.fit(X_train, y_train);\n",
    "# print('Training Score When trained on Stable stock ({}): ' + str(model.score(X_train, y_train)))"
   ]
  },
  {
   "cell_type": "code",
   "execution_count": null,
   "metadata": {
    "colab": {
     "base_uri": "https://localhost:8080/"
    },
    "executionInfo": {
     "elapsed": 3,
     "status": "ok",
     "timestamp": 1628918861983,
     "user": {
      "displayName": "CMPT 353",
      "photoUrl": "",
      "userId": "08881496583835622212"
     },
     "user_tz": 420
    },
    "id": "iNSKopmoeLgq",
    "outputId": "d7a79c54-e21f-49df-9d1d-08a30a2970e0"
   },
   "outputs": [],
   "source": [
    "# predicting \n",
    "X= econ_data\n",
    "y = X['sentiment']\n",
    "# y = y.to_numpy()\n",
    "X = X.drop(['sentiment'],axis=1)\n",
    "\n",
    "X = X['2021-01':].values\n",
    "y = y.loc['2021-01':].values\n",
    "\n",
    "# X = X.to_numpy()\n",
    "y = y.reshape(-1,1)\n",
    "\n",
    "\n",
    "prediction = model.predict(X)\n",
    "# prediction = prediction.reshape(-1,1)\n",
    "sentiment = np.where((prediction).mean() > 0.5,'Bullish','Bearish')\n",
    "print('Accumulative Stock Market Sentiment for current year : {}\\n'.format(sentiment))\n",
    "print('Classification Report:')\n",
    "print(classification_report(y, prediction))"
   ]
  },
  {
   "cell_type": "code",
   "execution_count": null,
   "metadata": {
    "colab": {
     "base_uri": "https://localhost:8080/",
     "height": 1000
    },
    "executionInfo": {
     "elapsed": 5701,
     "status": "ok",
     "timestamp": 1628918867682,
     "user": {
      "displayName": "CMPT 353",
      "photoUrl": "",
      "userId": "08881496583835622212"
     },
     "user_tz": 420
    },
    "id": "0vnHekl3VxhK",
    "outputId": "11fe8f34-4105-4f73-8313-7dfa7b057399"
   },
   "outputs": [],
   "source": [
    "plt.plot(econ_data.index,econ_data.CPI, label = 'CPI')\n",
    "plt.ylabel('CPI')\n",
    "plt.legend()\n",
    "plt.title('Graph of CPI inflation')\n",
    "plt.savefig('./data/Plots/CPI.png')\n",
    "plt.show()\n",
    "\n",
    "\n",
    "plt.plot(econ_data.index,econ_data.Unemployment_Rate, label = 'Unemployment Rate')\n",
    "plt.ylabel('Unemployment Rate')\n",
    "plt.legend()\n",
    "plt.title('Graph of Unemployment Rate')\n",
    "plt.savefig('./data/Plots/Unemployment_rate.png')\n",
    "plt.show()\n",
    "\n",
    "\n",
    "plt.plot(econ_data.index,econ_data.Potential_Real_GDP, label = 'Potential Real GDP')\n",
    "plt.ylabel('Potential Real GDP')\n",
    "plt.legend()\n",
    "plt.title('Graph of Potential Real GDP')\n",
    "plt.savefig('./data/Plots/Potnetial_real_GDP.png')\n",
    "plt.show()\n",
    "\n",
    "plt.plot(econ_data.index,econ_data.Potential_Nominal_GDP, label = 'Potential Nominal GDP')\n",
    "plt.ylabel('Potential Nominal GDP')\n",
    "plt.legend()\n",
    "plt.title('Graph of Potential Nominal GDP')\n",
    "plt.savefig('./data/Plots/Potential_Nominal_GDP.png')\n",
    "plt.show()\n",
    "\n",
    "plt.plot(econ_data.index,econ_data.GDP_Deflator, label = 'GDP Deflator')\n",
    "plt.ylabel('GDP Deflator')\n",
    "plt.legend()\n",
    "plt.title('Graph of GDP Deflator')\n",
    "plt.savefig('./data/Plots/GDP_Deflator.png')\n",
    "plt.show()\n",
    "\n",
    "plt.plot(econ_data.index,econ_data.St_Louis_Monitory_Base, label = 'St Louis Monitory Base')\n",
    "plt.ylabel('St Louis Monitory Base')\n",
    "plt.legend()\n",
    "plt.title('Graph of St Louis Monitory Base')\n",
    "plt.savefig('./data/Plots/St_Louis_Monitory_Base.png')\n",
    "plt.show()\n",
    "\n",
    "plt.plot(econ_data.index,econ_data.M1_Money, label = 'M1 Money')\n",
    "plt.ylabel('M1 Money')\n",
    "plt.legend()\n",
    "plt.title('Graph of M1 Money')\n",
    "plt.savefig('./data/Plots/M1_Money.png')\n",
    "plt.show()\n",
    "\n",
    "plt.plot(econ_data.index,econ_data.M1_Money_Velocity, label = 'M1 Money Velocity')\n",
    "plt.ylabel('M1 Money Velocity')\n",
    "plt.legend()\n",
    "plt.title('Graph of M1 Money Velocity')\n",
    "plt.savefig('./data/Plots/M1_Money_Velocity.png')\n",
    "plt.show()\n",
    "\n",
    "plt.plot(econ_data.index,econ_data.Efective_Funds_Rate, label = 'Effective Funds Rate')\n",
    "plt.ylabel('Effective Funds Rate')\n",
    "plt.legend()\n",
    "plt.title('Graph of Efective Funds Rate')\n",
    "plt.savefig('./data/Plots/Effective_Funds_Rate.png')\n",
    "plt.show()\n",
    "\n",
    "plt.plot(econ_data.index,econ_data.Unemployment_Level, label = 'Unemployment Level')\n",
    "plt.ylabel('Unemployment Level')\n",
    "plt.legend()\n",
    "plt.title('Graph of Unemployment Level')\n",
    "plt.savefig('./data/Plots/Unemployment_Level.png')\n",
    "plt.show()\n",
    "\n",
    "plt.plot(econ_data.index,econ_data.Median_Household_Income, label = 'Median Household Income')\n",
    "plt.ylabel('Median Household Income')\n",
    "plt.legend()\n",
    "plt.title('Graph of Median Household Income')\n",
    "plt.savefig('./data/Plots/Median_Household_Income.png')\n",
    "plt.show()\n",
    "\n",
    "plt.plot(econ_data.index,econ_data.Disposable_personal_income, label = 'Disposable Personal Income')\n",
    "plt.ylabel('Disposable Personal Income')\n",
    "plt.legend()\n",
    "plt.title('Graph of Disposable Personal Income')\n",
    "plt.savefig('./data/Plots/Disposable_Personal_Income.png')\n",
    "plt.show()\n"
   ]
  },
  {
   "cell_type": "markdown",
   "metadata": {
    "id": "JIeZlZ0PP4kL"
   },
   "source": [
    "# Extracting Historical Data from Yahoo Finance API (Ritika)"
   ]
  },
  {
   "cell_type": "code",
   "execution_count": null,
   "metadata": {
    "colab": {
     "base_uri": "https://localhost:8080/",
     "height": 464
    },
    "executionInfo": {
     "elapsed": 199,
     "status": "ok",
     "timestamp": 1628918867871,
     "user": {
      "displayName": "CMPT 353",
      "photoUrl": "",
      "userId": "08881496583835622212"
     },
     "user_tz": 420
    },
    "id": "ITYKDFC1Hz-q",
    "outputId": "c5bf8528-8b1d-4ebd-e2d7-e3ece49e7ecd"
   },
   "outputs": [],
   "source": [
    "# extracting historical data of most talked about stock\n",
    "tickerSymbol = df_combined_10['Ticker'][0]\n",
    "\n",
    "tickerdata = yf.Ticker(tickerSymbol)\n",
    "\n",
    "today = datetime.datetime.today().isoformat()\n",
    "tickerDF = tickerdata.history(period = '1d', start = '1980-1-1',end = today[:10]) # dates will go here\n",
    "print(\"Historical Data of {} :\".format(tickerSymbol))\n",
    "tickerDF"
   ]
  },
  {
   "cell_type": "code",
   "execution_count": null,
   "metadata": {
    "colab": {
     "base_uri": "https://localhost:8080/",
     "height": 301
    },
    "executionInfo": {
     "elapsed": 441,
     "status": "ok",
     "timestamp": 1628918868307,
     "user": {
      "displayName": "CMPT 353",
      "photoUrl": "",
      "userId": "08881496583835622212"
     },
     "user_tz": 420
    },
    "id": "kl6TUyF6H0Bz",
    "outputId": "7a49433f-67f8-4ec0-d2fb-4a1d9702b797"
   },
   "outputs": [],
   "source": [
    "tickerDf = tickerDF.reset_index()\n",
    "plt.plot(tickerDf.Date,tickerDf.Close)\n",
    "plt.title('Plotting Closing Price of {}'.format(tickerSymbol))\n",
    "plt.xlabel('Date (year)')\n",
    "plt.ylabel('Closing Price')\n",
    "plt.savefig('./data/Plots/Plotting_Closing_Price_of_{}.png'.format(tickerSymbol))\n",
    "plt.show()"
   ]
  },
  {
   "cell_type": "markdown",
   "metadata": {
    "id": "CAJWNqR4Sqd6"
   },
   "source": [
    "# Statistical Testing, Applying Linear Regression to train data models(Dhairya)\n"
   ]
  },
  {
   "cell_type": "code",
   "execution_count": null,
   "metadata": {
    "colab": {
     "base_uri": "https://localhost:8080/",
     "height": 620
    },
    "executionInfo": {
     "elapsed": 14365,
     "status": "ok",
     "timestamp": 1628918882669,
     "user": {
      "displayName": "CMPT 353",
      "photoUrl": "",
      "userId": "08881496583835622212"
     },
     "user_tz": 420
    },
    "id": "YVxMXA-eH0EV",
    "outputId": "252cb590-56e1-4664-8e59-e71703fdce30"
   },
   "outputs": [],
   "source": [
    "\n",
    "stock_info=pd.DataFrame(columns=['ticker','initial price','final price','increase percent','volume'])\n",
    "df_combined=df_combined.head(100)\n",
    "df_combined=df_combined.drop(['Unnamed: 0'],axis=1)\n",
    "#df_combined=df_combined[df_combined['count']>=15]\n",
    "print(df_combined)\n",
    "\n",
    "#Bar Plot representing current trending stocks on social media and their count.\n",
    "plt.bar(df_combined['Ticker'].head(10),df_combined['count'].head(10),color='black')\n",
    "plt.xlabel('Stock Name')\n",
    "plt.ylabel('Count')\n",
    "plt.title('Trending stocks on reddit')\n",
    "plt.savefig('./data/Plots/Trending_stocks_on_reddit.png')\n",
    "\n",
    "plt.show()\n",
    "\n",
    "#Extracting Relevant data for the stocks.\n",
    "for i in df_combined['Ticker']:\n",
    "  tick = i\n",
    "  tickerdata = yf.Ticker(tick)\n",
    "  today = datetime.datetime.today().isoformat()\n",
    "  tickerDF = tickerdata.history(period = '1d', start = '2020-08-1',end = '2021-09-1') # dates will go here\n",
    "\n",
    "  start = tickerDF['Close'].iloc[0]\n",
    "  end = tickerDF['Close'].iloc[-1]\n",
    "  if(len(tickerDF['Close'])>1):\n",
    "    increased_percentage = (tickerDF['Close'].iloc[-2] - start)/start\n",
    "  else:\n",
    "    continue\n",
    "  increased_percentage = increased_percentage *100 \n",
    "  vol=tickerDF['Volume'].iloc[-2]\n",
    "  stock_info= stock_info.append({'ticker': i,'initial price':start,'final price':end,'increase percent': increased_percentage,'volume':vol}, ignore_index=True)\n",
    "\n",
    "stock_info = pd.concat([stock_info, df_combined], axis=1, join=\"inner\") \n",
    "stock_info=stock_info.drop(['Ticker'],axis=1)\n",
    "stock_info=stock_info.sort_values(by='count',ascending=False)\n",
    "stock_info=stock_info.reset_index(drop=True)\n",
    "stock_info=stock_info.dropna()\n",
    "\n",
    "#Removing outliers from the data to prevent false predictions.\n",
    "# stock_info=stock_info[stock_info['count']>2]\n",
    "stock_info=stock_info[stock_info['increase percent']<1000]\n",
    "print()\n",
    "#Applying Central Limit Theoram since the data is more than 30.\n",
    "print('p value of normality test on count : ' + str(stats.normaltest(stock_info['count']).pvalue))\n",
    "print('p value of normality test on increase percent : ' +str(stats.normaltest(stock_info['increase percent']).pvalue))\n",
    "print('p value of equal variance on count and increse percent : ' +str(stats.levene(stock_info['count'],stock_info['increase percent']).pvalue))\n",
    "print('p vaue of t-test on count and increase percent : ' + str(stats.ttest_ind(stock_info['count'], stock_info['increase percent']).pvalue))"
   ]
  },
  {
   "cell_type": "code",
   "execution_count": null,
   "metadata": {
    "colab": {
     "base_uri": "https://localhost:8080/",
     "height": 301
    },
    "executionInfo": {
     "elapsed": 434,
     "status": "ok",
     "timestamp": 1628918883100,
     "user": {
      "displayName": "CMPT 353",
      "photoUrl": "",
      "userId": "08881496583835622212"
     },
     "user_tz": 420
    },
    "id": "HwUsIt_NgGIi",
    "outputId": "27811316-26c6-4e46-cdcf-e556dec0846a"
   },
   "outputs": [],
   "source": [
    "#Plotting Histograms for count and increase percent\n",
    "plt.hist(stock_info['count'],color='purple')\n",
    "plt.ylabel('Number of stocks')\n",
    "plt.xlabel('Count of stocks')\n",
    "plt.title(' Recent Trending stocks on Social Media and their count')\n",
    "plt.savefig('./data/Plots/Recent_Trending_stocks_on_Social_Media_and_their_count.png')\n",
    "\n",
    "plt.show()"
   ]
  },
  {
   "cell_type": "code",
   "execution_count": null,
   "metadata": {
    "colab": {
     "base_uri": "https://localhost:8080/",
     "height": 301
    },
    "executionInfo": {
     "elapsed": 481,
     "status": "ok",
     "timestamp": 1628918883579,
     "user": {
      "displayName": "CMPT 353",
      "photoUrl": "",
      "userId": "08881496583835622212"
     },
     "user_tz": 420
    },
    "id": "Ca6szfzVhRif",
    "outputId": "c081b2c7-4697-4fee-e11a-c9e67eb9da35"
   },
   "outputs": [],
   "source": [
    "#Plotting Histograms for count and increase percent\n",
    "plt.hist(stock_info['increase percent'],color='red')\n",
    "plt.ylabel('Number of stocks')\n",
    "plt.xlabel('increase percent of stocks with time')\n",
    "plt.title(' Recent Trending stocks on Social Media and their increase percent')\n",
    "plt.savefig('./data/Plots/Recent_Trending_stocks_on_Social_Media_and_their_increase_percent.png')\n",
    "plt.show()"
   ]
  },
  {
   "cell_type": "code",
   "execution_count": null,
   "metadata": {
    "executionInfo": {
     "elapsed": 8,
     "status": "ok",
     "timestamp": 1628918883580,
     "user": {
      "displayName": "CMPT 353",
      "photoUrl": "",
      "userId": "08881496583835622212"
     },
     "user_tz": 420
    },
    "id": "rsnggtlkhy7o"
   },
   "outputs": [],
   "source": [
    "#Since the data is Right Skewed applying data transformation of Root\n",
    "inc=pd.DataFrame()\n",
    "count=pd.DataFrame()\n",
    "inc['right']=stock_info['increase percent'].apply(np.sqrt)\n",
    "count['right']=stock_info['count'].apply(np.sqrt)"
   ]
  },
  {
   "cell_type": "code",
   "execution_count": null,
   "metadata": {
    "colab": {
     "base_uri": "https://localhost:8080/",
     "height": 301
    },
    "executionInfo": {
     "elapsed": 430,
     "status": "ok",
     "timestamp": 1628918884003,
     "user": {
      "displayName": "CMPT 353",
      "photoUrl": "",
      "userId": "08881496583835622212"
     },
     "user_tz": 420
    },
    "id": "z7rbgY30iZ_0",
    "outputId": "91b7a586-c874-4037-b605-8af739f9d1f8"
   },
   "outputs": [],
   "source": [
    "#Plotting count after root transformation\n",
    "plt.hist(count['right'],color='green')\n",
    "plt.ylabel('Number of stocks')\n",
    "plt.xlabel('Count of stocks')\n",
    "plt.title('After Square Root Count')\n",
    "\n",
    "plt.savefig('./data/Plots/After_Square_Root_Count.png')\n",
    "\n",
    "plt.show()"
   ]
  },
  {
   "cell_type": "code",
   "execution_count": null,
   "metadata": {
    "colab": {
     "base_uri": "https://localhost:8080/",
     "height": 301
    },
    "executionInfo": {
     "elapsed": 521,
     "status": "ok",
     "timestamp": 1628918884521,
     "user": {
      "displayName": "CMPT 353",
      "photoUrl": "",
      "userId": "08881496583835622212"
     },
     "user_tz": 420
    },
    "id": "Y0wmc-C4jLqm",
    "outputId": "41843c22-6b23-4094-dfb6-9e426baa4f74"
   },
   "outputs": [],
   "source": [
    "#Plotting increase percent after root transformation\n",
    "plt.hist(inc['right'],color='black')\n",
    "plt.ylabel('Number of stocks')\n",
    "plt.xlabel('increase percent of stocks')\n",
    "plt.title('After Square Root increase percent')\n",
    "plt.savefig('./data/Plots/After_Square_Root_increase_percent.png')\n",
    "plt.show()"
   ]
  },
  {
   "cell_type": "code",
   "execution_count": null,
   "metadata": {
    "executionInfo": {
     "elapsed": 7,
     "status": "ok",
     "timestamp": 1628918884522,
     "user": {
      "displayName": "CMPT 353",
      "photoUrl": "",
      "userId": "08881496583835622212"
     },
     "user_tz": 420
    },
    "id": "bM9_j7mBjZoJ"
   },
   "outputs": [],
   "source": [
    "#Since the data is Right Skewed applying data transformation of log\n",
    "inc['left']=stock_info['increase percent'].apply(np.log)\n",
    "count['left']=stock_info['count'].apply(np.log)"
   ]
  },
  {
   "cell_type": "code",
   "execution_count": null,
   "metadata": {
    "colab": {
     "base_uri": "https://localhost:8080/",
     "height": 301
    },
    "executionInfo": {
     "elapsed": 546,
     "status": "ok",
     "timestamp": 1628918885062,
     "user": {
      "displayName": "CMPT 353",
      "photoUrl": "",
      "userId": "08881496583835622212"
     },
     "user_tz": 420
    },
    "id": "puPhaW7Ujik2",
    "outputId": "fed4ee59-f6ad-4d17-9d87-1fade01d2c31"
   },
   "outputs": [],
   "source": [
    "#Plotting count after root transformation\n",
    "plt.hist(count['left'],color='gold')\n",
    "plt.ylabel('Number of stocks')\n",
    "plt.xlabel('Count of stocks')\n",
    "plt.title('After Square Root Count')\n",
    "plt.savefig('./data/Plots/After_Square_Root_Count.png')\n",
    "plt.show()"
   ]
  },
  {
   "cell_type": "code",
   "execution_count": null,
   "metadata": {
    "colab": {
     "base_uri": "https://localhost:8080/",
     "height": 301
    },
    "executionInfo": {
     "elapsed": 318,
     "status": "ok",
     "timestamp": 1628918885378,
     "user": {
      "displayName": "CMPT 353",
      "photoUrl": "",
      "userId": "08881496583835622212"
     },
     "user_tz": 420
    },
    "id": "2oU4RoK0jlSM",
    "outputId": "b7130633-405a-40d5-a8ab-6f11f27e0158"
   },
   "outputs": [],
   "source": [
    "#Plotting increase percent after root transformation\n",
    "plt.hist(inc['left'],color='maroon')\n",
    "plt.ylabel('Number of stocks')\n",
    "plt.xlabel('increase percent of stocks')\n",
    "plt.title('After Square Root increase percent')\n",
    "plt.savefig('./data/Plots/After_Square_Root_increase_percent.png')\n",
    "plt.show()"
   ]
  },
  {
   "cell_type": "code",
   "execution_count": null,
   "metadata": {
    "colab": {
     "base_uri": "https://localhost:8080/"
    },
    "executionInfo": {
     "elapsed": 15,
     "status": "ok",
     "timestamp": 1628918885379,
     "user": {
      "displayName": "CMPT 353",
      "photoUrl": "",
      "userId": "08881496583835622212"
     },
     "user_tz": 420
    },
    "id": "dDLOsso7j4Y5",
    "outputId": "887c7e77-d8ff-4fd6-fc49-bf3233cb3dd8"
   },
   "outputs": [],
   "source": [
    "#Using transformed to conduct test again. (Extra test because central limit applied)\n",
    "count=count.dropna()\n",
    "inc=inc.dropna()\n",
    "print('p value of normality test for count[left] : ' + str(stats.normaltest(count['left']).pvalue))\n",
    "print('p value of normality test for inc[left] : ' + str(stats.normaltest(inc['left']).pvalue))\n",
    "print( 'p value of equal variance test on count[left] and inc[left] : '+ str(stats.levene(count['left'],inc['left']).pvalue))\n",
    "print( 'p value of ttest on count[left] and inc[left]'+ str(stats.ttest_ind(count['left'], inc['left']).pvalue))\n"
   ]
  },
  {
   "cell_type": "code",
   "execution_count": null,
   "metadata": {
    "colab": {
     "base_uri": "https://localhost:8080/"
    },
    "executionInfo": {
     "elapsed": 218,
     "status": "ok",
     "timestamp": 1628918885588,
     "user": {
      "displayName": "CMPT 353",
      "photoUrl": "",
      "userId": "08881496583835622212"
     },
     "user_tz": 420
    },
    "id": "gYy3p0JFkmHe",
    "outputId": "c62b7470-4d76-4f13-feba-ef905cc46587"
   },
   "outputs": [],
   "source": [
    "#Applying MannWhitneyU on this test to check for separate means. ( Also for information purposes)\n",
    "print('p value of mann whitney yu for inc[left] and count[left] : ' + str(stats.mannwhitneyu(inc['left'],count['left']).pvalue))"
   ]
  },
  {
   "cell_type": "code",
   "execution_count": null,
   "metadata": {
    "colab": {
     "base_uri": "https://localhost:8080/",
     "height": 417
    },
    "executionInfo": {
     "elapsed": 6,
     "status": "ok",
     "timestamp": 1628918885588,
     "user": {
      "displayName": "CMPT 353",
      "photoUrl": "",
      "userId": "08881496583835622212"
     },
     "user_tz": 420
    },
    "id": "Ndj4U24_U_PI",
    "outputId": "747b7089-c278-4f7c-93e5-d45a67301370"
   },
   "outputs": [],
   "source": [
    "#stock_info=stock_info.head(10)\n",
    "stock_info"
   ]
  },
  {
   "cell_type": "code",
   "execution_count": null,
   "metadata": {
    "colab": {
     "base_uri": "https://localhost:8080/",
     "height": 301
    },
    "executionInfo": {
     "elapsed": 297,
     "status": "ok",
     "timestamp": 1628918885881,
     "user": {
      "displayName": "CMPT 353",
      "photoUrl": "",
      "userId": "08881496583835622212"
     },
     "user_tz": 420
    },
    "id": "o7U6tmeMVDSZ",
    "outputId": "d4f5a983-eaff-4d0f-e8fe-46123d1979db"
   },
   "outputs": [],
   "source": [
    "#Bar chart of stock count\n",
    "plt.bar(df_combined['Ticker'].head(10),df_combined['count'].head(10))\n",
    "plt.xlabel('Stock Name')\n",
    "plt.ylabel('Count')\n",
    "plt.title('Top 10 Stocks Mentioned')\n",
    "plt.savefig('./data/Plots/Top_10_Stocks_Mentioned.png')\n",
    "\n",
    "plt.show()\n"
   ]
  },
  {
   "cell_type": "code",
   "execution_count": null,
   "metadata": {
    "colab": {
     "base_uri": "https://localhost:8080/",
     "height": 301
    },
    "executionInfo": {
     "elapsed": 416,
     "status": "ok",
     "timestamp": 1628918886294,
     "user": {
      "displayName": "CMPT 353",
      "photoUrl": "",
      "userId": "08881496583835622212"
     },
     "user_tz": 420
    },
    "id": "cHjcMsTsV_9x",
    "outputId": "2c0ad080-6832-45f0-89fb-b12fc3ebc07b"
   },
   "outputs": [],
   "source": [
    "\n",
    "#Plotting the count vs increse percent graph\n",
    "fit = stats.linregress(stock_info['count'].head(10), stock_info['increase percent'].head(10))\n",
    "# print(stock_info['increase percent'].head(10))\n",
    "\n",
    "plt.plot(stock_info['count'].head(10),stock_info['increase percent'].head(10),'r.', label = 'Actual Data')\n",
    "plt.plot(stock_info['count'].head(10),stock_info['increase percent'].head(10)*fit.slope + fit.intercept,'b-', label = 'Predicted Fit Line')\n",
    "plt.xlabel('Count')\n",
    "plt.ylabel('Increase percent')\n",
    "plt.title('Relation between Count and Increase Percent of Stock')\n",
    "plt.legend()\n",
    "plt.savefig('./data/Plots/Relation_between_Count_and_Increase_Percent_of_Stock.png')\n",
    "\n",
    "plt.show() \n"
   ]
  },
  {
   "cell_type": "code",
   "execution_count": null,
   "metadata": {
    "colab": {
     "base_uri": "https://localhost:8080/"
    },
    "executionInfo": {
     "elapsed": 4,
     "status": "ok",
     "timestamp": 1628918886294,
     "user": {
      "displayName": "CMPT 353",
      "photoUrl": "",
      "userId": "08881496583835622212"
     },
     "user_tz": 420
    },
    "id": "T5wF5KDLVqc3",
    "outputId": "e8761e08-c8c4-4322-beb9-000dcfd84876"
   },
   "outputs": [],
   "source": [
    "# Fitting the data into a machine learning model\n",
    "stock_info['days']=stock_info['initial price']/stock_info['initial price']*365\n",
    "stock_info=stock_info[stock_info['days'].notnull()]\n",
    "stock_info['days']=stock_info['days'].astype(int)\n",
    "\n",
    "\n",
    "y = []\n",
    "X= []\n",
    "y = stock_info['final price']\n",
    "y = y.to_numpy()\n",
    "X = stock_info\n",
    "# print(X_train)\n",
    "X = X.drop(['ticker','final price'], axis = 1)\n",
    "# print(X_train)\n",
    "X = X.to_numpy()\n",
    "X_train,X_valid,y_train,y_valid=train_test_split(X,y)\n",
    "#X_train, X_valid, y_train, y_valid = train_test_split(X, y)\n",
    "model = make_pipeline(\n",
    "    #PolynomialFeatures(degree=8, include_bias=True),\n",
    "    LinearRegression(fit_intercept=True)\n",
    ")\n",
    "\n",
    "model.fit(X_train,y_train);\n",
    "# print()\n",
    "print( 'Validation score : ' + str(model.score(X_valid, y_valid)))\n",
    "\n"
   ]
  },
  {
   "cell_type": "markdown",
   "metadata": {
    "id": "-T0-IgrYtabA"
   },
   "source": [
    "#Prediction of stocks using Linear Regression model based on statistical analysis (Dhairya)\n"
   ]
  },
  {
   "cell_type": "code",
   "execution_count": null,
   "metadata": {
    "colab": {
     "base_uri": "https://localhost:8080/"
    },
    "executionInfo": {
     "elapsed": 644,
     "status": "ok",
     "timestamp": 1628918886936,
     "user": {
      "displayName": "CMPT 353",
      "photoUrl": "",
      "userId": "08881496583835622212"
     },
     "user_tz": 420
    },
    "id": "5dGPY4sVH0Jv",
    "outputId": "eaca1104-6c41-4967-e918-1d07fcd9d47d"
   },
   "outputs": [],
   "source": [
    "# #Predicting final price of Stocks\n",
    "df_combined_RE = df_combined\n",
    "df_combined_RE['count'] = 1\n",
    "df_combined_RE['Ticker'] = df_combined_RE['Ticker'].str.upper()\n",
    "df_combined_RE['contains'] = df_combined_RE['Ticker'].isin(pred['ticker'])\n",
    "df_combined_RE= df_combined_RE[df_combined_RE['contains'] != False]\n",
    "\n",
    "stock_info_RE=pd.DataFrame(columns=['ticker','initial price','increase','volume'])\n",
    "\n",
    "# #reference from https://datascienceparichay.com/article/pandas-groupby-count-of-rows-in-each-group/\n",
    "df_combined_RE= df_combined_RE.groupby('Ticker').count()\n",
    "df_combined_RE= df_combined_RE.drop(['contains'], axis = 1)\n",
    "df_combined_RE= df_combined_RE.reset_index(drop=False)\n",
    "df_combined_RE=df_combined_RE.sort_values('count', ascending = False)\n",
    "df_combined_RE=df_combined_RE.reset_index(drop=True)\n",
    "# print(df_combined_RE)\n",
    "\n",
    "for i in df_combined_RE['Ticker']:\n",
    "  tickerSymbol = i\n",
    "  tickerdata = yf.Ticker(tickerSymbol)\n",
    "  today = datetime.datetime.today().isoformat()\n",
    "  tickerDF = tickerdata.history(period = '1d', start = '2021-08-1',end = '2021-08-7') # dates will go here\n",
    "  start = tickerDF['Close'].iloc[0]\n",
    "  end = tickerDF['Close'].iloc[-1]\n",
    "  increased_percentage = (end-start)/start\n",
    "  increased_percentage = increased_percentage *100 \n",
    "  stock_info_RE= stock_info_RE.append({'ticker': i,'initial price':start,'increase':increased_percentage,'volume':tickerDF['Volume'].iloc[-1]}, ignore_index=True)\n",
    "\n",
    "\n",
    "stock_info_RE = pd.concat([stock_info_RE, df_combined_RE], axis=1, join=\"inner\") \n",
    "stock_info_RE=stock_info_RE.drop(['Ticker'],axis=1)\n",
    "stock_info_RE=stock_info_RE.sort_values(by='count',ascending=False)\n",
    "stock_info_RE=stock_info_RE.reset_index(drop=True)\n",
    "stock_info_RE['days']=stock_info_RE['initial price']/stock_info_RE['initial price']*7\n",
    "stock_info_RE[stock_info_RE['days'].notnull()]\n",
    "stock_info_RE['days']=stock_info_RE['days'].astype(int)\n",
    "stock_info_RE=stock_info_RE.dropna()\n",
    "\n",
    "result=stock_info_RE\n",
    "\n",
    "#result=result[result['increase']>0]\n",
    "result=result.drop(['ticker'],axis=1)\n",
    "X_pred=[]\n",
    "X_pred=result.to_numpy()\n",
    "# print(stock_info_RE)\n",
    "# stock_info_RE['prediction']\n",
    "# print(X_pred)\n",
    "\n",
    "temp = model.predict(X_pred)\n",
    "y_pred=model.predict(X_pred)\n",
    "stock_info_RE['prediction']=y_pred\n",
    "\n",
    "# print(stock_info_RE)\n",
    "\n",
    "#Predicting model score\n",
    "# print(model.score(X,y))\n",
    "print('Prediction score on data : ' + str(model.score(X_pred,stock_info_RE['prediction'])))\n",
    "\n",
    "print()\n",
    "print(stock_info_RE)\n",
    "\n",
    "#Splitting the Data to perform testing\n",
    "\n",
    "\n",
    "\n"
   ]
  },
  {
   "cell_type": "code",
   "execution_count": null,
   "metadata": {
    "colab": {
     "base_uri": "https://localhost:8080/",
     "height": 301
    },
    "executionInfo": {
     "elapsed": 259,
     "status": "ok",
     "timestamp": 1628918887190,
     "user": {
      "displayName": "CMPT 353",
      "photoUrl": "",
      "userId": "08881496583835622212"
     },
     "user_tz": 420
    },
    "id": "Yx539-Tps091",
    "outputId": "209c53c7-9129-462e-89eb-55cddd300f44"
   },
   "outputs": [],
   "source": [
    "#Plotting Increase vs count plot\n",
    "plt.bar(stock_info_RE['ticker'],stock_info_RE['prediction'],color='black')\n",
    "plt.xlabel('Stock name')\n",
    "plt.ylabel('Predicted price')\n",
    "plt.title('Stock Predicted price')\n",
    "\n",
    "plt.savefig('./data/Plots/Stock_Predicted_price.png')\n",
    "plt.show()\n"
   ]
  },
  {
   "cell_type": "code",
   "execution_count": null,
   "metadata": {
    "colab": {
     "base_uri": "https://localhost:8080/",
     "height": 301
    },
    "executionInfo": {
     "elapsed": 206,
     "status": "ok",
     "timestamp": 1628918887392,
     "user": {
      "displayName": "CMPT 353",
      "photoUrl": "",
      "userId": "08881496583835622212"
     },
     "user_tz": 420
    },
    "id": "Jv8t5SY6tIy-",
    "outputId": "ddcd8686-a5df-4724-9ee8-e6e8c3fb89e8"
   },
   "outputs": [],
   "source": [
    "plt.bar(stock_info_RE['ticker'],stock_info_RE['initial price'],color='orange')\n",
    "plt.xlabel('Stock name')\n",
    "plt.ylabel('Initial price')\n",
    "plt.title('Stock initial value')\n",
    "plt.savefig('./data/Plots/Stock_initial_value.png')\n",
    "plt.show()"
   ]
  },
  {
   "cell_type": "code",
   "execution_count": null,
   "metadata": {
    "colab": {
     "base_uri": "https://localhost:8080/",
     "height": 301
    },
    "executionInfo": {
     "elapsed": 295,
     "status": "ok",
     "timestamp": 1628918887683,
     "user": {
      "displayName": "CMPT 353",
      "photoUrl": "",
      "userId": "08881496583835622212"
     },
     "user_tz": 420
    },
    "id": "MEZ22K0WtOOg",
    "outputId": "ea9334db-cc56-4ed0-b8bc-914932ee5990"
   },
   "outputs": [],
   "source": [
    "plt.plot(stock_info_RE['ticker'],stock_info_RE['prediction'],'r-')\n",
    "plt.plot(stock_info_RE['ticker'],stock_info_RE['initial price'],'y-')\n",
    "plt.xlabel('Stock name')\n",
    "plt.ylabel('Price')\n",
    "plt.title('Initial vs Predicted')\n",
    "plt.savefig('./data/Plots/Initial_vs_Predicted.png')\n",
    "\n",
    "plt.show()"
   ]
  },
  {
   "cell_type": "markdown",
   "metadata": {
    "id": "E8y-hjNoW0BW"
   },
   "source": [
    "# Random Forest Classifier to predict stock prices using technical analysis \n",
    "(Jyotiraditya, Ritika, Navjot)"
   ]
  },
  {
   "cell_type": "code",
   "execution_count": null,
   "metadata": {
    "colab": {
     "base_uri": "https://localhost:8080/",
     "height": 1000
    },
    "executionInfo": {
     "elapsed": 3613,
     "status": "ok",
     "timestamp": 1628918891293,
     "user": {
      "displayName": "CMPT 353",
      "photoUrl": "",
      "userId": "08881496583835622212"
     },
     "user_tz": 420
    },
    "id": "ptVbcxB8WzXk",
    "outputId": "f433fe41-c607-443c-86a3-c2517c560e6b"
   },
   "outputs": [],
   "source": [
    "tickersymbol='KO'\n",
    "tickerdata = yf.Ticker(tickersymbol)\n",
    "tickerDF = tickerdata.history(period = '1d', start = '1920-01-01',end = '2021-01-01')\n",
    "closing = tickerDF['Close']\n",
    "tickerDF['SMA'] = talib.SMA(closing, timeperiod=3)\n",
    "tickerDF['EMA'] = talib.EMA(closing, timeperiod=3)\n",
    "tickerDF['RSI'] = talib.RSI(closing, timeperiod=3)\n",
    "tickerDF['ADX'] = talib.ADX(tickerDF['High'], tickerDF['Low'], closing, timeperiod=3)\n",
    "tickerDF['ATR'] = talib.ATR(tickerDF['High'], tickerDF['Low'], closing, timeperiod=3)\n",
    "ticker_df = tickerDF.drop(['Dividends', 'Stock Splits'], axis=1).dropna()\n",
    "\n",
    "# ticker_df = ticker_df[['Close', 'Volume', 'SMA', 'EMA', 'RSI', 'ADX', 'ATR']]\n",
    "\n",
    "plot = plt.plot(tickerDF['Close'], label='close')\n",
    "plt.title('Closing Price of {}'.format(tickersymbol))\n",
    "plt.xlabel('Date (year)')\n",
    "plt.ylabel('Price')\n",
    "plt.legend()\n",
    "plt.savefig('./data/Plots/Closing_Price_of{}.png'.format(tickersymbol))\n",
    "plt.show()\n",
    "\n",
    "plot = plt.plot(ticker_df['SMA'], color='Green', label='SMA')\n",
    "plt.title('3 Days Simple Moving Average of {}'.format(tickersymbol))\n",
    "plt.xlabel('Date (year)')\n",
    "plt.ylabel('Price')\n",
    "plt.legend()\n",
    "plt.savefig('./data/Plots/3_days_simple_moving_average_of_{}.png'.format(tickersymbol))\n",
    "plt.show()\n",
    "\n",
    "plot = plt.plot(ticker_df['RSI'], color='black', label='RSI')\n",
    "plt.title('3 Days Relative Strength Index {}'.format(tickersymbol))\n",
    "plt.xlabel('Date (year)')\n",
    "plt.ylabel('Points')\n",
    "plt.legend()\n",
    "plt.savefig('./data/Plots/3_days_relative_strength_Index{}.png'.format(tickersymbol))\n",
    "plt.show()\n",
    "\n",
    "plot = plt.plot(ticker_df['ADX'], color='orange', label='ADX')\n",
    "plt.title('3 Days Average Directional Index {}'.format(tickersymbol))\n",
    "plt.xlabel('Date (year)')\n",
    "plt.ylabel('Points')\n",
    "plt.legend()\n",
    "plt.savefig('./data/Plots/3_days_average_Directional_index{}.png'.format(tickersymbol))\n",
    "plt.show()\n",
    "\n",
    "plot = plt.plot(ticker_df['ATR'], color='red', label='ATR')\n",
    "plt.title('3 Days Average True Range {}'.format(tickersymbol))\n",
    "plt.xlabel('Date (year)')\n",
    "plt.ylabel('Points')\n",
    "plt.legend()\n",
    "plt.savefig('./data/Plots/3_days_average_true_range{}.png'.format(tickersymbol))\n",
    "plt.show()\n",
    "\n",
    "X = ticker_df\n",
    "y = X['Close']\n",
    "# y=y.to_numpy()\n",
    "X = X.drop(['Close'],axis=1)\n",
    "# X=X.to_numpy()\n",
    "# X_train, X_valid, y_train, y_valid = train_test_split(X, y)\n",
    "X_train = X[:'2020-06-01'].to_numpy()\n",
    "y_train = y.loc[:'2020-06-01'].to_numpy()\n",
    "X_valid = X['2020-06-01':].to_numpy()\n",
    "y_valid = y['2020-06-01':].to_numpy()\n",
    "y_valid = y_valid.reshape(-1,1)\n",
    "y_train = y_train.reshape(-1,1)\n",
    "\n",
    "\n",
    "scaler =  MinMaxScaler(feature_range=(0,1))\n",
    "X_train = scaler.fit_transform(X_train)\n",
    "X_valid = scaler.fit_transform(X_valid)\n",
    "\n",
    "\n",
    "scaler_predict = MinMaxScaler(feature_range=(0,1))\n",
    "y_valid = scaler_predict.fit_transform(y_valid)\n",
    "y_train = scaler_predict.fit_transform(y_train)\n",
    "\n",
    "\n",
    "model = RandomForestRegressor(9, max_depth=20)\n",
    "model.fit(X_train, y_train)\n",
    "prediction = model.predict(X_valid)\n",
    "prediction = prediction.reshape(-1,1)\n",
    "prediction = scaler_predict.inverse_transform(prediction)\n",
    "print('Training Score: ' + str(model.score(X_train, y_train)))\n",
    "print('Validation Score: ' + str(model.score(X_valid, y_valid)))\n",
    "\n"
   ]
  },
  {
   "cell_type": "code",
   "execution_count": null,
   "metadata": {
    "colab": {
     "base_uri": "https://localhost:8080/"
    },
    "executionInfo": {
     "elapsed": 186,
     "status": "ok",
     "timestamp": 1628918891475,
     "user": {
      "displayName": "CMPT 353",
      "photoUrl": "",
      "userId": "08881496583835622212"
     },
     "user_tz": 420
    },
    "id": "59uuz2IlWzZp",
    "outputId": "72e7da13-1b96-45a6-f37d-d801f3dda0c1"
   },
   "outputs": [],
   "source": [
    "# predicting on the most hyped Stock Close Price\n",
    "tickersymbol= df_combined_10['Ticker'][0]\n",
    "tickerdata = yf.Ticker(tickersymbol)\n",
    "tickerDF = tickerdata.history(period = '1d', start = '2021-01-01',end = '2021-08-08')\n",
    "closing = tickerDF['Close']\n",
    "tickerDF['SMA'] = talib.SMA(closing, timeperiod=3)\n",
    "tickerDF['EMA'] = talib.EMA(closing, timeperiod=3)\n",
    "tickerDF['RSI'] = talib.RSI(closing, timeperiod=3)\n",
    "tickerDF['ADX'] = talib.ADX(tickerDF['High'], tickerDF['Low'], closing, timeperiod=3)\n",
    "tickerDF['ATR'] = talib.ATR(tickerDF['High'], tickerDF['Low'], closing, timeperiod=3)\n",
    "ticker_df = tickerDF.drop(['Dividends', 'Stock Splits'], axis=1).dropna()\n",
    "\n",
    "\n",
    "X = ticker_df\n",
    "ticker_df = ticker_df.reset_index()\n",
    "y = X['Close']\n",
    "y = y.to_numpy()\n",
    "X = X.drop(['Close'],axis=1)\n",
    "\n",
    "X = X.to_numpy()\n",
    "y = y.reshape(-1,1)\n",
    "y = scaler_predict.fit_transform(y)\n",
    "X = scaler.fit_transform(X)\n",
    "\n",
    "prediction = model.predict(X)\n",
    "prediction = prediction.reshape(-1,1)\n",
    "prediction = scaler_predict.inverse_transform(prediction)\n",
    "print('Score after predicting the Close Price for {} using Technical Analysis : '.format(tickersymbol) + str(model.score(X, y)))\n",
    "# print(ticker_df['Close'])\n",
    "# prediction\n"
   ]
  },
  {
   "cell_type": "code",
   "execution_count": null,
   "metadata": {
    "colab": {
     "base_uri": "https://localhost:8080/",
     "height": 301
    },
    "executionInfo": {
     "elapsed": 553,
     "status": "ok",
     "timestamp": 1628918892026,
     "user": {
      "displayName": "CMPT 353",
      "photoUrl": "",
      "userId": "08881496583835622212"
     },
     "user_tz": 420
    },
    "id": "EoBXpkzqWzb3",
    "outputId": "685121df-6a73-4e24-fded-ea3fc2adfea9"
   },
   "outputs": [],
   "source": [
    "plt.plot(ticker_df.Date, prediction, 'r-', label = 'Predicted Closing Price')\n",
    "plt.plot(ticker_df.Date, ticker_df['Close'], 'b-', label = 'Actual Closing Price')\n",
    "plt.title('Predicting the Close Price for {} using Technical Analysis : '.format(tickersymbol))\n",
    "plt.legend()\n",
    "plt.xlabel('Date')\n",
    "plt.ylabel('Price')\n",
    "plt.savefig('./data/Plots/Predicting_the_Close_Price_using_Technical_Analysis_of_{}.png'.format(tickersymbol))\n",
    "plt.show()"
   ]
  },
  {
   "cell_type": "markdown",
   "metadata": {
    "id": "hf3EKMdmZUvs"
   },
   "source": [
    "# Buy Sell Recomendations using Technical Analysis (Jyotiraditya & Ritika)"
   ]
  },
  {
   "cell_type": "code",
   "execution_count": null,
   "metadata": {
    "colab": {
     "base_uri": "https://localhost:8080/"
    },
    "executionInfo": {
     "elapsed": 7525,
     "status": "ok",
     "timestamp": 1628918899549,
     "user": {
      "displayName": "CMPT 353",
      "photoUrl": "",
      "userId": "08881496583835622212"
     },
     "user_tz": 420
    },
    "id": "M0SCOR8EWzi4",
    "outputId": "55ac33b7-19be-494c-d45e-4cd37e809326"
   },
   "outputs": [],
   "source": [
    "# Training on a stable stock\n",
    "tickersymbol='KO'\n",
    "tickerdata = yf.Ticker(tickersymbol)\n",
    "tickerDF = tickerdata.history(period = '1d', start = '1920-01-01',end = '2020-02-01')\n",
    "closing = tickerDF['Close']\n",
    "\n",
    "# Making Technical indcators as a feature to train\n",
    "tickerDF['SMA_5'] = talib.SMA(closing, timeperiod=5)\n",
    "tickerDF['SMA_15'] = talib.SMA(closing, timeperiod=15)\n",
    "tickerDF['EMA_5'] = talib.EMA(closing, timeperiod=5)\n",
    "tickerDF['EMA_15'] = talib.EMA(closing, timeperiod=15)\n",
    "tickerDF['RSI_5'] = talib.RSI(closing, timeperiod=5)\n",
    "tickerDF['RSI_15'] = talib.RSI(closing, timeperiod=15)\n",
    "tickerDF['ADX_5'] = talib.ADX(tickerDF['High'], tickerDF['Low'], closing, timeperiod=5)\n",
    "tickerDF['ADX_15'] = talib.ADX(tickerDF['High'], tickerDF['Low'], closing, timeperiod=15)\n",
    "tickerDF['ATR_5'] = talib.ATR(tickerDF['High'], tickerDF['Low'], closing, timeperiod=5)\n",
    "tickerDF['ATR_15'] = talib.ATR(tickerDF['High'], tickerDF['Low'], closing, timeperiod=15)\n",
    "\n",
    "macd , macdsignal, macdhist= talib.MACD(closing, fastperiod=12, slowperiod=26, signalperiod=9)\n",
    "\n",
    "macd_data = pd.DataFrame(macd,columns = ['MACD'])\n",
    "\n",
    "tickerDF = tickerDF.join(macd_data, how =\"inner\")\n",
    "\n",
    "ticker_df = tickerDF\n",
    "ticker_df['weekly_close'] = ticker_df['Close'].shift(-6)\n",
    "ticker_df['Percent_change'] = ((ticker_df['weekly_close'] - ticker_df['Open'])/(ticker_df['Open']) * 100).shift(-1)\n",
    "ticker_df['buy/sell'] = np.where(ticker_df['Percent_change']>0,1,0)\n",
    "ticker_df = ticker_df.dropna().copy()\n",
    "ticker_df = ticker_df.drop(['Dividends', 'Stock Splits','Open','Low','High','Volume','Close','Percent_change','weekly_close'], axis=1).dropna()\n",
    "\n",
    "\n",
    "X=ticker_df\n",
    "y=X['buy/sell']\n",
    "# y=y.to_numpy()\n",
    "X=X.drop(['buy/sell'],axis=1)\n",
    "\n",
    "# X=X.to_numpy()\n",
    "X_train = X[:'2020-02-01']\n",
    "y_train = y.loc[:'2020-02-01']\n",
    "\n",
    "model = RandomForestClassifier()\n",
    "\n",
    "\n",
    "model.fit(X_train, y_train)\n",
    "print('Training Score When trained on Stable stock ({}): '.format(tickersymbol) + str(model.score(X_train, y_train)))"
   ]
  },
  {
   "cell_type": "code",
   "execution_count": null,
   "metadata": {
    "colab": {
     "base_uri": "https://localhost:8080/"
    },
    "executionInfo": {
     "elapsed": 6,
     "status": "ok",
     "timestamp": 1628918899550,
     "user": {
      "displayName": "CMPT 353",
      "photoUrl": "",
      "userId": "08881496583835622212"
     },
     "user_tz": 420
    },
    "id": "xe2VoSZ4ZnwP",
    "outputId": "23998c7d-9381-4f3b-fcbe-7ad6771343b2"
   },
   "outputs": [],
   "source": [
    "#Prediting Hyped Stock\n",
    "\n",
    "tickersymbol= df_combined_10['Ticker'][0]\n",
    "tickerdata = yf.Ticker(tickersymbol)\n",
    "tickerDF = tickerdata.history(period = '1d', start = '2020-02-01',end = '2021-08-10')\n",
    "closing = tickerDF['Close']\n",
    "\n",
    "tickerDF['SMA_5'] = talib.SMA(closing, timeperiod=5)\n",
    "tickerDF['SMA_15'] = talib.SMA(closing, timeperiod=15)\n",
    "tickerDF['EMA_5'] = talib.EMA(closing, timeperiod=5)\n",
    "tickerDF['EMA_15'] = talib.EMA(closing, timeperiod=15)\n",
    "tickerDF['RSI_5'] = talib.RSI(closing, timeperiod=5)\n",
    "tickerDF['RSI_15'] = talib.RSI(closing, timeperiod=15)\n",
    "tickerDF['ADX_5'] = talib.ADX(tickerDF['High'], tickerDF['Low'], closing, timeperiod=5)\n",
    "tickerDF['ADX_15'] = talib.ADX(tickerDF['High'], tickerDF['Low'], closing, timeperiod=15)\n",
    "tickerDF['ATR_5'] = talib.ATR(tickerDF['High'], tickerDF['Low'], closing, timeperiod=5)\n",
    "tickerDF['ATR_15'] = talib.ATR(tickerDF['High'], tickerDF['Low'], closing, timeperiod=15)\n",
    "\n",
    "macd , macdsignal, macdhist= talib.MACD(closing, fastperiod=12, slowperiod=26, signalperiod=9)\n",
    "\n",
    "macd_data = pd.DataFrame(macd,columns = ['MACD'])\n",
    "\n",
    "tickerDF = tickerDF.join(macd_data, how =\"inner\")\n",
    "\n",
    "ticker_df = tickerDF\n",
    "ticker_df['weekly_close'] = ticker_df['Close'].shift(-6)\n",
    "ticker_df['Percent_change'] = ((ticker_df['weekly_close'] - ticker_df['Open'])/(ticker_df['Open']) * 100).shift(-1)\n",
    "ticker_df['buy/sell'] = np.where(ticker_df['Percent_change']>0,1,0)\n",
    "ticker_df = ticker_df.dropna().copy()\n",
    "buy_sell_df = ticker_df.copy()\n",
    "ticker_df = ticker_df.drop(['Dividends', 'Stock Splits','Open','Low','High','Volume','Close','Percent_change','weekly_close'], axis=1).dropna()\n",
    "\n",
    "X= ticker_df\n",
    "y = X['buy/sell']\n",
    "y = y.to_numpy()\n",
    "X = X.drop(['buy/sell'],axis=1)\n",
    "X = X.to_numpy()\n",
    "y = y.reshape(-1,1)\n",
    "\n",
    "\n",
    "prediction = model.predict(X)\n",
    "prediction = prediction.reshape(-1,1)\n",
    "\n",
    "print('Prediction Score with hyped Stock ({}) : '.format(tickersymbol) + str(model.score(X, y)))"
   ]
  },
  {
   "cell_type": "code",
   "execution_count": null,
   "metadata": {
    "executionInfo": {
     "elapsed": 5,
     "status": "ok",
     "timestamp": 1628918899551,
     "user": {
      "displayName": "CMPT 353",
      "photoUrl": "",
      "userId": "08881496583835622212"
     },
     "user_tz": 420
    },
    "id": "uaCrThsifpBF"
   },
   "outputs": [],
   "source": [
    "buy_sell_df\n",
    "buy_sell_df = buy_sell_df[['Close']]\n",
    "buy_sell_df['buy/sell'] = prediction\n",
    "buy_sell_df\n",
    "buy_df = buy_sell_df.drop(buy_sell_df[buy_sell_df['buy/sell'] == 0].index)\n",
    "sell_df = buy_sell_df.drop(buy_sell_df[buy_sell_df['buy/sell'] == 1].index)\n",
    "\n",
    "buy_sell_df = buy_sell_df.reset_index()"
   ]
  },
  {
   "cell_type": "code",
   "execution_count": null,
   "metadata": {
    "colab": {
     "base_uri": "https://localhost:8080/",
     "height": 301
    },
    "executionInfo": {
     "elapsed": 513,
     "status": "ok",
     "timestamp": 1628918900059,
     "user": {
      "displayName": "CMPT 353",
      "photoUrl": "",
      "userId": "08881496583835622212"
     },
     "user_tz": 420
    },
    "id": "Y3IUKojOgDKe",
    "outputId": "5598eba8-92d0-48cf-9761-36ba4f8173b7"
   },
   "outputs": [],
   "source": [
    "sell_df = sell_df.reset_index()\n",
    "plt.plot(buy_sell_df.Date,buy_sell_df.Close,'-k', label = 'Closing Price')\n",
    "plt.scatter(sell_df.Date, sell_df['Close'], color = 'red', label='Sell Signal', marker = 'v', alpha = 1, LineWidth = 0.5)\n",
    "plt.xlabel('Date')\n",
    "plt.ylabel('Price')\n",
    "plt.title('Sell Signal for {}'.format(tickersymbol))\n",
    "plt.legend()\n",
    "plt.savefig('./data/Plots/Sell_signal_for_{}.png'.format(tickersymbol))\n",
    "plt.show()"
   ]
  },
  {
   "cell_type": "code",
   "execution_count": null,
   "metadata": {
    "colab": {
     "base_uri": "https://localhost:8080/",
     "height": 301
    },
    "executionInfo": {
     "elapsed": 753,
     "status": "ok",
     "timestamp": 1628918900809,
     "user": {
      "displayName": "CMPT 353",
      "photoUrl": "",
      "userId": "08881496583835622212"
     },
     "user_tz": 420
    },
    "id": "U1Vec7vDgDRY",
    "outputId": "efeb10cb-cedb-4454-8bca-b4afe8b40386"
   },
   "outputs": [],
   "source": [
    "buy_df = buy_df.reset_index()\n",
    "plt.plot(buy_sell_df.Date,buy_sell_df.Close,'-k', label = 'Closing Price')\n",
    "plt.scatter(buy_df.Date, buy_df['Close'], color = 'green', label='Buy Signal', marker = '^', alpha = 1,LineWidth = 0.5)\n",
    "plt.xlabel('Date')\n",
    "plt.ylabel('Price')\n",
    "plt.title('Buy Signal for {}'.format(tickersymbol))\n",
    "plt.legend()\n",
    "plt.savefig('./data/Plots/Buy_signal_for_{}.png'.format(tickersymbol))\n",
    "plt.show()"
   ]
  },
  {
   "cell_type": "code",
   "execution_count": null,
   "metadata": {
    "colab": {
     "base_uri": "https://localhost:8080/",
     "height": 301
    },
    "executionInfo": {
     "elapsed": 626,
     "status": "ok",
     "timestamp": 1628918901433,
     "user": {
      "displayName": "CMPT 353",
      "photoUrl": "",
      "userId": "08881496583835622212"
     },
     "user_tz": 420
    },
    "id": "J31iXIPafpEl",
    "outputId": "e73a5c96-4edc-4e72-9b20-602a0f4549f2"
   },
   "outputs": [],
   "source": [
    "\n",
    "plt.plot(buy_sell_df.Date,buy_sell_df.Close,'-k', label = 'Closing Price')\n",
    "plt.scatter(sell_df.Date, sell_df['Close'], color = 'red', label='Sell Signal', marker = 'v', alpha = 1, LineWidth = 0.5)\n",
    "plt.scatter(buy_df.Date, buy_df['Close'], color = 'green', label='Buy Signal', marker = '^', alpha = 1,LineWidth = 0.5)\n",
    "plt.xlabel('Date')\n",
    "plt.ylabel('Price')\n",
    "plt.title('Buy/Sell Signal for {}'.format(tickersymbol))\n",
    "plt.legend()\n",
    "plt.savefig('./data/Plots/Buy_Sell_signal_for_{}.png'.format(tickersymbol))\n",
    "plt.show()\n"
   ]
  },
  {
   "cell_type": "markdown",
   "metadata": {
    "id": "asx2MzLpb2vK"
   },
   "source": [
    "# RNN LSTM model for price prediction (Ritika & Jyotiraditya)"
   ]
  },
  {
   "cell_type": "code",
   "execution_count": null,
   "metadata": {
    "executionInfo": {
     "elapsed": 183,
     "status": "ok",
     "timestamp": 1628918901613,
     "user": {
      "displayName": "CMPT 353",
      "photoUrl": "",
      "userId": "08881496583835622212"
     },
     "user_tz": 420
    },
    "id": "8FkIWnSTZn-6"
   },
   "outputs": [],
   "source": [
    "#extracting historical data\n",
    "start_date_train = '2016-6-1'\n",
    "end_date_train = '2021-6-1'\n",
    "tickerSymbol = df_combined_10['Ticker'][0]\n",
    "# tickerSymbol = 'TSLA'\n",
    "tickerdata = yf.Ticker(tickerSymbol)\n",
    "tickerDF = tickerdata.history(period = '1d', start = start_date_train,end = end_date_train) # dates will go here\n",
    "tickerDF['datetime'] = tickerDF.index\n",
    "tickerDF = tickerDF.set_index('datetime')\n",
    "\n",
    "# extracting VIX\n",
    "vix = '^VIX'\n",
    "tickerdata_vix = yf.Ticker(vix)\n",
    "VIX_info = tickerdata_vix.history(period = '1d', start = start_date_train,end =end_date_train)\n",
    "VIX_info['Vix_close'] = VIX_info['Close']\n",
    "VIX_info = VIX_info[['Vix_close']]\n",
    "VIX_info\n",
    "\n",
    "combined = tickerDF.join(VIX_info,how = 'inner' )\n",
    "combined = combined.fillna(0)\n",
    "combined = combined[['Close','Open','Low','High','Volume','Vix_close']]\n"
   ]
  },
  {
   "cell_type": "code",
   "execution_count": null,
   "metadata": {
    "executionInfo": {
     "elapsed": 3,
     "status": "ok",
     "timestamp": 1628918901614,
     "user": {
      "displayName": "CMPT 353",
      "photoUrl": "",
      "userId": "08881496583835622212"
     },
     "user_tz": 420
    },
    "id": "9sdQzgTCZoCh"
   },
   "outputs": [],
   "source": [
    "# Gathering training data\n",
    "\n",
    "dataset_train = combined\n",
    "training_set = dataset_train.iloc[:, 0:6].values\n",
    "\n",
    "#feature scaling \n",
    "scaler =  MinMaxScaler(feature_range=(0,1))\n",
    "training_set_scaled = scaler.fit_transform(training_set)\n",
    "scaler_predict = MinMaxScaler(feature_range=(0,1))\n",
    "scaler_predict.fit_transform(training_set[:, 0:1])\n",
    "\n",
    "X_train = []\n",
    "y_train = []\n",
    "\n",
    "timestamp = 60\n",
    "num_rows = training_set_scaled.shape[0]\n",
    "num_columns = training_set_scaled.shape[1]\n",
    "\n",
    "for i in range(timestamp, num_rows):\n",
    "    X_train.append(training_set_scaled[i-timestamp:i, 1:num_columns])\n",
    "    y_train.append(training_set_scaled[i, 0])\n",
    "\n",
    "X_train, y_train = np.array(X_train), np.array(y_train)\n",
    "\n",
    "X_train = np.reshape(X_train, (X_train.shape[0], X_train.shape[1], 5))\n"
   ]
  },
  {
   "cell_type": "code",
   "execution_count": null,
   "metadata": {
    "executionInfo": {
     "elapsed": 1383,
     "status": "ok",
     "timestamp": 1628918902994,
     "user": {
      "displayName": "CMPT 353",
      "photoUrl": "",
      "userId": "08881496583835622212"
     },
     "user_tz": 420
    },
    "id": "950F2yQodR-l"
   },
   "outputs": [],
   "source": [
    "model = Sequential()\n",
    "\n",
    "model.add(LSTM(units=64, return_sequences=True, input_shape = (X_train.shape[1], num_columns-1))) # change the values for layers\n",
    "model.add(Dropout(0.2))\n",
    "\n",
    "model.add(LSTM(units=64, return_sequences=True)) \n",
    "model.add(Dropout(0.2))\n",
    "\n",
    "model.add(LSTM(units=64, return_sequences=True)) \n",
    "model.add(Dropout(0.2))\n",
    "\n",
    "model.add(LSTM(units=64))\n",
    "model.add(Dropout(0.2))\n",
    "\n",
    "model.add(Dense(units = 1))\n",
    "\n",
    "model.compile(optimizer = 'adam', loss = 'mean_squared_error')"
   ]
  },
  {
   "cell_type": "code",
   "execution_count": null,
   "metadata": {
    "colab": {
     "base_uri": "https://localhost:8080/"
    },
    "executionInfo": {
     "elapsed": 207518,
     "status": "ok",
     "timestamp": 1628919110508,
     "user": {
      "displayName": "CMPT 353",
      "photoUrl": "",
      "userId": "08881496583835622212"
     },
     "user_tz": 420
    },
    "id": "NkULaJkvdSBD",
    "outputId": "df998423-4e40-4f65-cb88-b31aaf31ac1f"
   },
   "outputs": [],
   "source": [
    "model.fit(X_train, y_train,epochs= 30, batch_size=32) #epoch should be decided by converging of loss"
   ]
  },
  {
   "cell_type": "code",
   "execution_count": null,
   "metadata": {
    "executionInfo": {
     "elapsed": 1726,
     "status": "ok",
     "timestamp": 1628919112225,
     "user": {
      "displayName": "CMPT 353",
      "photoUrl": "",
      "userId": "08881496583835622212"
     },
     "user_tz": 420
    },
    "id": "g_BRxCpFdSEm"
   },
   "outputs": [],
   "source": [
    "#get real stock price that you want to predict (here we used 2 month)\n",
    "\n",
    "start_date_predict = '2021-6-1'\n",
    "end_date_predict = '2021-8-1'\n",
    "dataset_test_stock =  tickerdata.history(period = '1d', start = start_date_predict,end = end_date_predict)\n",
    "dataset_test_vix =  tickerdata_vix.history(period = '1d', start = start_date_predict,end = end_date_predict)\n",
    "\n",
    "dataset_test_vix['Vix_close'] = dataset_test_vix['Close']\n",
    "dataset_test_vix = dataset_test_vix[['Vix_close']]\n",
    "\n",
    "dataset_test = dataset_test_stock.join(dataset_test_vix,how = 'inner' )\n",
    "dataset_test = dataset_test.fillna(0)\n",
    "\n",
    "dataset_test = dataset_test[['Close','Open','Low','High','Volume','Vix_close']]\n",
    "\n",
    "real_stock_close = dataset_test['Close'].values\n",
    "\n",
    "dataset_test = dataset_test[['Close','Open','Low','High','Volume','Vix_close']]\n",
    "\n",
    "dataset_total = pd.concat((dataset_train, dataset_test), axis = 0)\n",
    "\n",
    "inputs = dataset_total[len(dataset_total) - len(dataset_test) - timestamp:].values\n",
    "inputs = inputs.reshape(-1,6)\n",
    "\n",
    "inputs = scaler.transform(inputs)\n",
    "\n",
    "X_test = []\n",
    "for i in range(timestamp, timestamp +dataset_test.shape[0] ):\n",
    "    X_test.append(inputs[i-timestamp:i, 1:])\n",
    "\n",
    "X_test = np.array(X_test)\n",
    "\n",
    "X_test = np.reshape(X_test, (X_test.shape[0], X_test.shape[1],5))\n",
    "\n",
    "predicted_stock_price = model.predict(X_test)\n",
    "predicted_stock_price = scaler_predict.inverse_transform(predicted_stock_price)\n"
   ]
  },
  {
   "cell_type": "code",
   "execution_count": null,
   "metadata": {
    "colab": {
     "base_uri": "https://localhost:8080/",
     "height": 301
    },
    "executionInfo": {
     "elapsed": 496,
     "status": "ok",
     "timestamp": 1628919112717,
     "user": {
      "displayName": "CMPT 353",
      "photoUrl": "",
      "userId": "08881496583835622212"
     },
     "user_tz": 420
    },
    "id": "08gZoES1eNtN",
    "outputId": "a7e9565c-d728-4dd6-fbdd-e59e8c75b9fb"
   },
   "outputs": [],
   "source": [
    "# Plotting the outcomes\n",
    "\n",
    "plt.plot(real_stock_close, color = 'red', label = 'Real {} Stock Price'.format(tickerSymbol))\n",
    "plt.plot(predicted_stock_price, color = 'blue', label = 'Predicted {} Stock Price'.format(tickerSymbol))\n",
    "plt.title('{} Stock Price Prediction'.format(tickerSymbol))\n",
    "plt.xlabel('Time')\n",
    "plt.ylabel('{} Stock Price'.format(tickerSymbol))\n",
    "plt.grid(which='major', color = '#cccccc', alpha = 0.5)\n",
    "plt.legend()\n",
    "plt.savefig('./data/Plots/RNN_stock_price_prediction_for_{}.png'.format(tickerSymbol))\n",
    "plt.show()"
   ]
  },
  {
   "cell_type": "markdown",
   "metadata": {
    "id": "1LshGVBZcOK_"
   },
   "source": [
    "# RNN LSTM model for price prediction using Sentiment Analysis \n",
    "(Jyotiraditya,  Navjot & Ritika)"
   ]
  },
  {
   "cell_type": "code",
   "execution_count": null,
   "metadata": {
    "executionInfo": {
     "elapsed": 5967,
     "status": "ok",
     "timestamp": 1628919118682,
     "user": {
      "displayName": "CMPT 353",
      "photoUrl": "",
      "userId": "08881496583835622212"
     },
     "user_tz": 420
    },
    "id": "kAtwqg4dcXN6"
   },
   "outputs": [],
   "source": [
    "\n",
    "tokenizer = AutoTokenizer.from_pretrained('nlptown/bert-base-multilingual-uncased-sentiment')\n",
    "model = AutoModelForSequenceClassification.from_pretrained('nlptown/bert-base-multilingual-uncased-sentiment')"
   ]
  },
  {
   "cell_type": "code",
   "execution_count": null,
   "metadata": {
    "executionInfo": {
     "elapsed": 9,
     "status": "ok",
     "timestamp": 1628919118683,
     "user": {
      "displayName": "CMPT 353",
      "photoUrl": "",
      "userId": "08881496583835622212"
     },
     "user_tz": 420
    },
    "id": "yHuhF6aZcXi0"
   },
   "outputs": [],
   "source": [
    "# ticker, start_datetime, end_datetime\n",
    "def get_score(data, **kwargs ):\n",
    "  start_datetime = data.date1\n",
    "  end_datetime = data.date2\n",
    "\n",
    "  for i in kwargs:\n",
    "       ticker = kwargs[i]\n",
    "\n",
    "  api = PushshiftAPI()\n",
    "  start = int(start_datetime.to_pydatetime().timestamp())\n",
    "  end = int(end_datetime.to_pydatetime().timestamp())\n",
    "\n",
    "  result = list(api.search_submissions(after=start, before = end,\n",
    "                              q=ticker,\n",
    "                              subreddit='wallstreetbets',\n",
    "                              filter=['title'], limit=10))\n",
    "  \n",
    "  score = 0\n",
    "  for r in result:\n",
    "    text = r.title\n",
    "    if len(text) > 512:\n",
    "        text = text[:512]\n",
    "    tokens = tokenizer.encode(text, return_tensors='pt')\n",
    "    result = model(tokens)\n",
    "    score += int(torch.argmax(result.logits))+1\n",
    "  return score"
   ]
  },
  {
   "cell_type": "code",
   "execution_count": null,
   "metadata": {
    "executionInfo": {
     "elapsed": 168018,
     "status": "ok",
     "timestamp": 1628919286694,
     "user": {
      "displayName": "CMPT 353",
      "photoUrl": "",
      "userId": "08881496583835622212"
     },
     "user_tz": 420
    },
    "id": "TOGvnTe8cXqi"
   },
   "outputs": [],
   "source": [
    "# Gathering historical data \n",
    "start_date_train = '2021-3-1'\n",
    "end_date_train = '2021-7-1'\n",
    "tickerSymbol = df_combined_10['Ticker'][0]\n",
    "\n",
    "tickerdata = yf.Ticker(tickerSymbol)\n",
    "tickerDF = tickerdata.history(period = '1d', start = start_date_train,end = end_date_train) # dates will go here\n",
    "tickerDF['datetime'] = tickerDF.index\n",
    "tickerDF = tickerDF.set_index('datetime')\n",
    "\n",
    "#extracting VIX\n",
    "vix = '^VIX'\n",
    "tickerdata_vix = yf.Ticker(vix)\n",
    "VIX_info = tickerdata_vix.history(period = '1d', start = start_date_train,end =end_date_train)\n",
    "VIX_info['Vix_close'] = VIX_info['Close']\n",
    "VIX_info = VIX_info[['Vix_close']]\n",
    "\n",
    "combined = tickerDF.join(VIX_info,how = 'inner' )\n",
    "combined = combined.fillna(0)\n",
    "\n",
    "combined = combined[['Close','Open','Low','High','Volume','Vix_close']]\n",
    "combined['date1'] = combined.index\n",
    "combined['date2'] = pd.DatetimeIndex(combined['date1']) + pd.DateOffset(1)\n",
    "combined['score'] = combined.apply(get_score, ticker = tickerSymbol, axis =1)\n",
    "combined = combined.drop(columns=['date1', 'date2'])\n"
   ]
  },
  {
   "cell_type": "code",
   "execution_count": null,
   "metadata": {
    "executionInfo": {
     "elapsed": 6,
     "status": "ok",
     "timestamp": 1628919286695,
     "user": {
      "displayName": "CMPT 353",
      "photoUrl": "",
      "userId": "08881496583835622212"
     },
     "user_tz": 420
    },
    "id": "U1ZnsFIqhRbz"
   },
   "outputs": [],
   "source": [
    "# Gathering training data \n",
    "dataset_train = combined\n",
    "training_set = dataset_train.iloc[:, 0:7].values\n",
    "\n",
    "#feature scaling\n",
    "scaler =  MinMaxScaler(feature_range=(0,1))\n",
    "training_set_scaled = scaler.fit_transform(training_set)\n",
    "\n",
    "scaler_predict = MinMaxScaler(feature_range=(0,1))\n",
    "scaler_predict.fit_transform(training_set[:, 0:1]);\n",
    "\n",
    "X_train = []\n",
    "y_train = []\n",
    "\n",
    "timestamp = 60\n",
    "num_rows = training_set_scaled.shape[0]\n",
    "num_columns = training_set_scaled.shape[1]\n",
    "\n",
    "for i in range(timestamp, num_rows):\n",
    "    X_train.append(training_set_scaled[i-timestamp:i, 1:num_columns])\n",
    "    y_train.append(training_set_scaled[i, 0])\n",
    "\n",
    "X_train, y_train = np.array(X_train), np.array(y_train)\n",
    "\n",
    "X_train = np.reshape(X_train, (X_train.shape[0], X_train.shape[1], 6))\n",
    "\n"
   ]
  },
  {
   "cell_type": "code",
   "execution_count": null,
   "metadata": {
    "executionInfo": {
     "elapsed": 41566,
     "status": "ok",
     "timestamp": 1628919328256,
     "user": {
      "displayName": "CMPT 353",
      "photoUrl": "",
      "userId": "08881496583835622212"
     },
     "user_tz": 420
    },
    "id": "602UpyM0hRd0"
   },
   "outputs": [],
   "source": [
    "#get real stock price that you want to predict (here i used 2 month)\n",
    "start_date_predict = '2021-7-1'\n",
    "end_date_predict = '2021-8-1'\n",
    "dataset_test_stock =  tickerdata.history(period = '1d', start = start_date_predict,end = end_date_predict)\n",
    "dataset_test_vix =  tickerdata_vix.history(period = '1d', start = start_date_predict,end = end_date_predict)\n",
    "\n",
    "dataset_test_vix['Vix_close'] = dataset_test_vix['Close']\n",
    "dataset_test_vix = dataset_test_vix[['Vix_close']]\n",
    "\n",
    " \n",
    "\n",
    "dataset_test = dataset_test_stock.join(dataset_test_vix,how = 'inner' )\n",
    "dataset_test = dataset_test.fillna(0)\n",
    "\n",
    "dataset_test = dataset_test[['Close','Open','Low','High','Volume','Vix_close']]\n",
    "\n",
    "dataset_test['date1'] = dataset_test.index\n",
    "dataset_test['date2'] = pd.DatetimeIndex(dataset_test['date1']) + pd.DateOffset(1)\n",
    "dataset_test['score'] = dataset_test.apply(get_score, ticker = tickerSymbol, axis =1)\n",
    "dataset_test = dataset_test.drop(columns=['date1', 'date2'])\n",
    "\n",
    "real_stock_close = dataset_test['Close'].values"
   ]
  },
  {
   "cell_type": "code",
   "execution_count": null,
   "metadata": {
    "executionInfo": {
     "elapsed": 9,
     "status": "ok",
     "timestamp": 1628919328257,
     "user": {
      "displayName": "CMPT 353",
      "photoUrl": "",
      "userId": "08881496583835622212"
     },
     "user_tz": 420
    },
    "id": "caIQ7Nq7hRgM"
   },
   "outputs": [],
   "source": [
    "dataset_total = pd.concat((dataset_train, dataset_test), axis = 0)\n"
   ]
  },
  {
   "cell_type": "code",
   "execution_count": null,
   "metadata": {
    "executionInfo": {
     "elapsed": 1274,
     "status": "ok",
     "timestamp": 1628919329523,
     "user": {
      "displayName": "CMPT 353",
      "photoUrl": "",
      "userId": "08881496583835622212"
     },
     "user_tz": 420
    },
    "id": "RAe3jRmAhRk1"
   },
   "outputs": [],
   "source": [
    "model = Sequential()\n",
    "model.add(LSTM(units=64, return_sequences=True, input_shape = (X_train.shape[1], num_columns-1))) # change the values for layers\n",
    "model.add(Dropout(0.2))\n",
    "\n",
    "model.add(LSTM(units=64, return_sequences=True)) \n",
    "model.add(Dropout(0.2))\n",
    "\n",
    "model.add(LSTM(units=64, return_sequences=True)) \n",
    "model.add(Dropout(0.2))\n",
    "\n",
    "model.add(LSTM(units=64))\n",
    "model.add(Dropout(0.2))\n",
    "\n",
    "model.add(Dense(units = 1))\n",
    "\n",
    "model.compile(optimizer = 'adam', loss = 'mean_squared_error')\n"
   ]
  },
  {
   "cell_type": "code",
   "execution_count": null,
   "metadata": {
    "colab": {
     "base_uri": "https://localhost:8080/"
    },
    "executionInfo": {
     "elapsed": 15870,
     "status": "ok",
     "timestamp": 1628919345392,
     "user": {
      "displayName": "CMPT 353",
      "photoUrl": "",
      "userId": "08881496583835622212"
     },
     "user_tz": 420
    },
    "id": "f9A3luuEicUL",
    "outputId": "463e55fe-d095-44e9-dfa0-a1eec6031ca1"
   },
   "outputs": [],
   "source": [
    "model.fit(X_train, y_train,epochs=50, batch_size=32) #epoch should be decided by converging of loss"
   ]
  },
  {
   "cell_type": "code",
   "execution_count": null,
   "metadata": {
    "colab": {
     "base_uri": "https://localhost:8080/"
    },
    "executionInfo": {
     "elapsed": 1637,
     "status": "ok",
     "timestamp": 1628919347026,
     "user": {
      "displayName": "CMPT 353",
      "photoUrl": "",
      "userId": "08881496583835622212"
     },
     "user_tz": 420
    },
    "id": "ZC3Yp6zFicXi",
    "outputId": "c755f5d4-5555-4d04-c476-1569978f6a53"
   },
   "outputs": [],
   "source": [
    "training_score = (model.evaluate(X_train, y_train))\n"
   ]
  },
  {
   "cell_type": "code",
   "execution_count": null,
   "metadata": {
    "executionInfo": {
     "elapsed": 1441,
     "status": "ok",
     "timestamp": 1628919348462,
     "user": {
      "displayName": "CMPT 353",
      "photoUrl": "",
      "userId": "08881496583835622212"
     },
     "user_tz": 420
    },
    "id": "sh5_vEQWicc3"
   },
   "outputs": [],
   "source": [
    "inputs = dataset_total[len(dataset_total) - len(dataset_test) - timestamp:].values\n",
    "inputs = inputs.reshape(-1,7)\n",
    "\n",
    "inputs = scaler.transform(inputs)\n",
    "\n",
    "X_test = []\n",
    "for i in range(timestamp, timestamp +dataset_test.shape[0] ):\n",
    "    X_test.append(inputs[i-timestamp:i, 1:])\n",
    "X_test = np.array(X_test)\n",
    "\n",
    "X_test = np.reshape(X_test, (X_test.shape[0], X_test.shape[1],6))\n",
    "\n",
    "predicted_stock_price = model.predict(X_test)\n",
    "predicted_stock_price = scaler_predict.inverse_transform(predicted_stock_price)\n"
   ]
  },
  {
   "cell_type": "code",
   "execution_count": null,
   "metadata": {
    "colab": {
     "base_uri": "https://localhost:8080/",
     "height": 318
    },
    "executionInfo": {
     "elapsed": 536,
     "status": "ok",
     "timestamp": 1628919348993,
     "user": {
      "displayName": "CMPT 353",
      "photoUrl": "",
      "userId": "08881496583835622212"
     },
     "user_tz": 420
    },
    "id": "CJOtQYqficf3",
    "outputId": "b7137470-9996-4dd9-a400-4642cd6df238"
   },
   "outputs": [],
   "source": [
    "print('Training Score = {}'.format(training_score))\n",
    "plt.plot(real_stock_close, color = 'red', label = 'Real {} Stock Price'.format(tickerSymbol))\n",
    "plt.plot(predicted_stock_price, color = 'blue', label = 'Predicted {} Stock Price'.format(tickerSymbol))\n",
    "plt.title('{} Stock Price Prediction'.format(tickerSymbol))\n",
    "plt.xlabel('Time')\n",
    "plt.ylabel('{} Stock Price'.format(tickerSymbol))\n",
    "plt.grid(which='major', color = '#cccccc', alpha = 0.5)\n",
    "plt.legend()\n",
    "plt.savefig('./data/Plots/BERT_RNN_stock_price_prediction_for_{}.png'.format(tickersymbol))\n",
    "plt.show()"
   ]
  },
  {
   "cell_type": "code",
   "execution_count": null,
   "metadata": {
    "executionInfo": {
     "elapsed": 6,
     "status": "ok",
     "timestamp": 1628919348994,
     "user": {
      "displayName": "CMPT 353",
      "photoUrl": "",
      "userId": "08881496583835622212"
     },
     "user_tz": 420
    },
    "id": "kMsMF3I8Co4a"
   },
   "outputs": [],
   "source": []
  }
 ],
 "metadata": {
  "colab": {
   "authorship_tag": "ABX9TyMx5xHQm6ZBOIYE+3eqObto",
   "collapsed_sections": [],
   "name": "03-Stock_market_analysis.ipynb",
   "provenance": []
  },
  "kernelspec": {
   "display_name": "Python 3",
   "language": "python",
   "name": "python3"
  },
  "language_info": {
   "codemirror_mode": {
    "name": "ipython",
    "version": 3
   },
   "file_extension": ".py",
   "mimetype": "text/x-python",
   "name": "python",
   "nbconvert_exporter": "python",
   "pygments_lexer": "ipython3",
   "version": "3.8.10"
  }
 },
 "nbformat": 4,
 "nbformat_minor": 1
}
